{
 "cells": [
  {
   "cell_type": "markdown",
   "id": "12e84e7d-3caa-486f-92d1-c2a77509ce71",
   "metadata": {},
   "source": [
    "# Q1.\n",
    "###  Pearson correlation coefficient is a measure of the linear relationship between two variables. Suppose you have collected data on the amount of time students spend studying for an exam and their final exam scores. Calculate the Pearson correlation coefficient between these two variables and interpret the result."
   ]
  },
  {
   "cell_type": "markdown",
   "id": "2bbdb7fd-f7b6-4cd2-9ab6-394226f72939",
   "metadata": {},
   "source": [
    "- If r is close to 1, it indicates a strong positive linear relationship.\n",
    "- If r is close to -1, it indicates a strong negative linear relationship.\n",
    "- If r is close to 0, it suggests a weak or no linear relationship."
   ]
  },
  {
   "cell_type": "markdown",
   "id": "4e043fee-8e90-4a40-8307-b1c0de0ecee2",
   "metadata": {},
   "source": [
    "# Q2.\n",
    "### Spearman's rank correlation is a measure of the monotonic relationship between two variables. Suppose you have collected data on the amount of sleep individuals get each night and their overall job satisfaction level on a scale of 1 to 10. Calculate the Spearman's rank correlation between these two variables and interpret the result."
   ]
  },
  {
   "cell_type": "markdown",
   "id": "a41551d4-aab2-44ec-9f87-69efcae48094",
   "metadata": {},
   "source": [
    "- The formula is similar to Pearson correlation but uses ranks instead of raw data.\n",
    "\n",
    "- If the Spearman's rank correlation  is close to 1, it indicates a strong monotonic positive relationship.\n",
    "- If ρ is close to -1, it indicates a strong monotonic negative relationship.\n",
    "- If ρ is close to 0, it suggests a weak or no monotonic relationship."
   ]
  },
  {
   "cell_type": "markdown",
   "id": "02e887e0-90b1-4f31-8d48-3b77d9174add",
   "metadata": {},
   "source": [
    "# Q3.\n",
    "### Suppose you are conducting a study to examine the relationship between the number of hours of exercise per week and body mass index (BMI) in a sample of adults. You collected data on both variables for 50 participants. Calculate the Pearson correlation coefficient and the Spearman's rank correlation between these two variables and compare the results."
   ]
  },
  {
   "cell_type": "markdown",
   "id": "4e5d9ff3-bf00-4839-96bc-141d53732eff",
   "metadata": {},
   "source": [
    "- Perform calculations using the appropriate formulas for Pearson and Spearman correlation coefficients.\n",
    "\n",
    "- Compare the results. If both coefficients are similar, it suggests a linear relationship. If Spearman's rank correlation is higher, it indicates a monotonic relationship."
   ]
  },
  {
   "cell_type": "markdown",
   "id": "f93d556a-728e-41fd-a978-5360844b876a",
   "metadata": {},
   "source": [
    "# Q4.\n",
    "### A researcher is interested in examining the relationship between the number of hours individuals spend watching television per day and their level of physical activity. The researcher collected data on both variables from a sample of 50 participants. Calculate the Pearson correlation coefficient between these two variables."
   ]
  },
  {
   "cell_type": "markdown",
   "id": "1e2c2abd-c562-49c6-b49f-7f27260f7f2e",
   "metadata": {},
   "source": [
    "- If r is close to 1, it indicates a strong positive linear relationship.\n",
    "- If r is close to -1, it indicates a strong negative linear relationship.\n",
    "- If r is close to 0, it suggests a weak or no linear relationship."
   ]
  },
  {
   "cell_type": "markdown",
   "id": "e76edc64-7c4e-4799-9ee7-e14f728fad67",
   "metadata": {},
   "source": [
    "# Q5."
   ]
  },
  {
   "cell_type": "markdown",
   "id": "b40a9664-3060-48e1-9f71-2bea7915532c",
   "metadata": {},
   "source": [
    "- Assign ranks to the age variable since it is continuous.\n",
    "- Assign ranks to the soft drink preferences\n",
    "- Use the formula for Spearman's rank correlation coefficient, we get \n",
    "p = -0.1.\n",
    "\n",
    "\n",
    "- The Spearman's rank correlation coefficient is -0.1, indicating a very weak negative monotonic relationship between age and soft drink preference. "
   ]
  },
  {
   "cell_type": "markdown",
   "id": "e412f466-b219-4eac-83cc-bcf727f9f3e0",
   "metadata": {},
   "source": [
    "# Q6.\n",
    "### A company is interested in examining the relationship between the number of sales calls made per day and the number of sales made per week. The company collected data on both variables from a sample of 30 sales representatives. Calculate the Pearson correlation coefficient between these two variables."
   ]
  },
  {
   "cell_type": "markdown",
   "id": "6e2973c2-a673-4173-8b05-9bb765994aa6",
   "metadata": {},
   "source": [
    "- If r is close to 1, it indicates a strong positive linear relationship.\n",
    "- If r is close to -1, it indicates a strong negative linear relationship.\n",
    "- If r is close to 0, it suggests a weak or no linear relationship."
   ]
  }
 ],
 "metadata": {
  "kernelspec": {
   "display_name": "Python 3 (ipykernel)",
   "language": "python",
   "name": "python3"
  },
  "language_info": {
   "codemirror_mode": {
    "name": "ipython",
    "version": 3
   },
   "file_extension": ".py",
   "mimetype": "text/x-python",
   "name": "python",
   "nbconvert_exporter": "python",
   "pygments_lexer": "ipython3",
   "version": "3.10.8"
  }
 },
 "nbformat": 4,
 "nbformat_minor": 5
}
